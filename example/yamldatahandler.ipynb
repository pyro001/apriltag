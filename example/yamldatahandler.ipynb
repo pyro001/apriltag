{
 "cells": [
  {
   "cell_type": "markdown",
   "metadata": {},
   "source": [
    "# Python data manager for yaml data\n",
    "##step 1. import libraries"
   ]
  },
  {
   "cell_type": "code",
   "execution_count": 9,
   "metadata": {},
   "outputs": [],
   "source": [
    "import numpy as np\n",
    "from ruamel import yaml\n",
    "from collections import OrderedDict\n",
    "od = OrderedDict()\n",
    "row_number = 0\n",
    "col_num = 0\n",
    "dat_list = []\n"
   ]
  },
  {
   "cell_type": "markdown",
   "metadata": {},
   "source": [
    "#function to load the data from the 2 files"
   ]
  },
  {
   "cell_type": "code",
   "execution_count": 10,
   "metadata": {},
   "outputs": [],
   "source": [
    "def import_file(filename):\n",
    "    with open(filename, 'r') as fin:\n",
    "        od = yaml.round_trip_load(fin)\n",
    "        # print(rfr)\n",
    "        # print(\"\\n\\n\\n\")\n",
    "\n",
    "    for key, value in od.items():\n",
    "        if (key == \"translation\"):\n",
    "            row_number = 0\n",
    "            col_num = 0\n",
    "            dat_list = []\n",
    "            translation_vector= value\n",
    "            # print(translation_vector[1])\n",
    "            for  i  in range(len(translation_vector)):\n",
    "\n",
    "                for key2, value2 in translation_vector[i].items():\n",
    "                    if(key2==\"rows\"):\n",
    "                        row_number=value2\n",
    "                    if(key2==\"cols\"):\n",
    "                        col_num=value2\n",
    "                    if (key2 == \"data\"):                        \n",
    "                        narr= np.array(value2)\n",
    "                        narr=np.reshape(narr, (row_number,col_num ))\n",
    "                        dat_list.append(narr)\n",
    "            return(dat_list)\n",
    "\n",
    "                    \n",
    "            \n"
   ]
  },
  {
   "cell_type": "code",
   "execution_count": 11,
   "metadata": {},
   "outputs": [],
   "source": [
    "# leftdata= import_file(\"/home/pyro/repos/apriltag/example/07_12_2022rootmonitor.yaml\")\n",
    "rightdata = import_file(\n",
    "    \"/home/pyro/repos/apriltag/example/08_12_2022_13:02:07_externalmonitor.yaml\")\n",
    "leftdata = import_file(\n",
    "    \"/home/pyro/repos/apriltag/example/08_12_2022_13:02:07_rootmonitor.yaml\")\n",
    "data_red= np.array(rightdata)-np.array(leftdata)\n",
    "# for i in range(len(leftdata)):\n",
    "#     # print(leftdata[i])\n",
    "#     print(leftdata[i]-rightdata[i])\n",
    "    \n"
   ]
  },
  {
   "cell_type": "code",
   "execution_count": 12,
   "metadata": {},
   "outputs": [
    {
     "name": "stdout",
     "output_type": "stream",
     "text": [
      "medianz 0.10795\n",
      "mediany 0.0335\n",
      "medianx -0.0034000000000000002\n",
      "mean z: 0.097006\n",
      "mean y:  0.033146999999999996\n",
      "median x: -0.007321000000000001\n",
      "std deviation z: 0.023991743663185464\n",
      "std deviation y: 0.00840864382644431\n",
      "std deviation x: 0.041417552547199116\n"
     ]
    }
   ],
   "source": [
    "from scipy import stats as st\n",
    "data_red=np.around(data_red,decimals=4)\n",
    "print(\"medianz\",np.median(data_red[:, 2, :]))\n",
    "print(\"mediany\",np.median(data_red[:, 1, :]))\n",
    "print(\"medianx\", np.median(data_red[:, 0, :]))\n",
    "print(\"mean z:\", np.mean(data_red[:, 2, :]))\n",
    "print(\"mean y: \", np.mean(data_red[:, 1, :]))\n",
    "print(\"median x:\", np.mean(data_red[:, 0, :]))\n",
    "print(\"std deviation z:\", np.std(data_red[:, 2, :]))\n",
    "print(\"std deviation y:\", np.std(data_red[:, 1, :]))\n",
    "print(\"std deviation x:\", np.std(data_red[:, 0, :]))\n"
   ]
  }
 ],
 "metadata": {
  "kernelspec": {
   "display_name": "Python 3.8.10 64-bit",
   "language": "python",
   "name": "python3"
  },
  "language_info": {
   "codemirror_mode": {
    "name": "ipython",
    "version": 3
   },
   "file_extension": ".py",
   "mimetype": "text/x-python",
   "name": "python",
   "nbconvert_exporter": "python",
   "pygments_lexer": "ipython3",
   "version": "3.8.10 (default, Jun 22 2022, 20:18:18) \n[GCC 9.4.0]"
  },
  "orig_nbformat": 4,
  "vscode": {
   "interpreter": {
    "hash": "916dbcbb3f70747c44a77c7bcd40155683ae19c65e1c03b4aa3499c5328201f1"
   }
  }
 },
 "nbformat": 4,
 "nbformat_minor": 2
}
