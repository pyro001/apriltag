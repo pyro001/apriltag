{
 "cells": [
  {
   "cell_type": "markdown",
   "metadata": {},
   "source": [
    "# Python data manager for yaml data\n",
    "##step 1. import libraries"
   ]
  },
  {
   "cell_type": "code",
   "execution_count": 41,
   "metadata": {},
   "outputs": [],
   "source": [
    "import numpy as np\n",
    "from ruamel import yaml\n",
    "from collections import OrderedDict\n",
    "od = OrderedDict()\n",
    "row_number = 0\n",
    "col_num = 0\n",
    "dat_list = []\n"
   ]
  },
  {
   "cell_type": "markdown",
   "metadata": {},
   "source": [
    "#function to load the data from the 2 files"
   ]
  },
  {
   "cell_type": "code",
   "execution_count": 42,
   "metadata": {},
   "outputs": [],
   "source": [
    "def import_file(filename):\n",
    "    with open(filename, 'r') as fin:\n",
    "        od = yaml.round_trip_load(fin)\n",
    "        # print(rfr)\n",
    "        # print(\"\\n\\n\\n\")\n",
    "\n",
    "    for key, value in od.items():\n",
    "        if (key == \"translation\"):\n",
    "            row_number = 0\n",
    "            col_num = 0\n",
    "            dat_list = []\n",
    "            translation_vector= value\n",
    "            # print(translation_vector[1])\n",
    "            for  i  in range(len(translation_vector)):\n",
    "\n",
    "                for key2, value2 in translation_vector[i].items():\n",
    "                    if(key2==\"rows\"):\n",
    "                        row_number=value2\n",
    "                    if(key2==\"cols\"):\n",
    "                        col_num=value2\n",
    "                    if (key2 == \"data\"):                        \n",
    "                        narr= np.array(value2)\n",
    "                        narr=np.reshape(narr, (row_number,col_num ))\n",
    "                        dat_list.append(narr)\n",
    "            return(dat_list)\n",
    "\n",
    "                    \n",
    "            \n"
   ]
  },
  {
   "cell_type": "code",
   "execution_count": 43,
   "metadata": {},
   "outputs": [],
   "source": [
    "# leftdata= import_file(\"/home/pyro/repos/apriltag/example/07_12_2022rootmonitor.yaml\")\n",
    "rightdata = import_file(\n",
    "    \"/home/pyro/repos/apriltag/07_12_2022_16:22:16externalmonitor.yaml\")\n",
    "leftdata = import_file(\n",
    "    \"/home/pyro/repos/apriltag/07_12_2022_16:22:16rootmonitor.yaml\")\n",
    "data_red= np.array(rightdata)-np.array(leftdata)\n",
    "# for i in range(len(leftdata)):\n",
    "#     # print(leftdata[i])\n",
    "#     print(leftdata[i]-rightdata[i])\n",
    "    \n"
   ]
  },
  {
   "cell_type": "code",
   "execution_count": 44,
   "metadata": {},
   "outputs": [
    {
     "name": "stdout",
     "output_type": "stream",
     "text": [
      "medianz 0.011800000000000001\n",
      "mediany 0.00065\n",
      "medianx -0.016800000000000002\n",
      "mean z: 0.011629999999999998\n",
      "mean y:  0.00052\n",
      "median x: -0.017349999999999997\n",
      "std deviation z: 0.0013594484175576504\n",
      "std deviation y: 0.000996794863550169\n",
      "std deviation x: 0.0015982803258502557\n"
     ]
    }
   ],
   "source": [
    "from scipy import stats as st\n",
    "data_red=np.around(data_red,decimals=4)\n",
    "print(\"medianz\",np.median(data_red[:, 2, :]))\n",
    "print(\"mediany\",np.median(data_red[:, 1, :]))\n",
    "print(\"medianx\", np.median(data_red[:, 0, :]))\n",
    "print(\"mean z:\", np.mean(data_red[:, 2, :]))\n",
    "print(\"mean y: \", np.mean(data_red[:, 1, :]))\n",
    "print(\"median x:\", np.mean(data_red[:, 0, :]))\n",
    "print(\"std deviation z:\", np.std(data_red[:, 2, :]))\n",
    "print(\"std deviation y:\", np.std(data_red[:, 1, :]))\n",
    "print(\"std deviation x:\", np.std(data_red[:, 0, :]))\n"
   ]
  }
 ],
 "metadata": {
  "kernelspec": {
   "display_name": "Python 3.8.10 64-bit",
   "language": "python",
   "name": "python3"
  },
  "language_info": {
   "codemirror_mode": {
    "name": "ipython",
    "version": 3
   },
   "file_extension": ".py",
   "mimetype": "text/x-python",
   "name": "python",
   "nbconvert_exporter": "python",
   "pygments_lexer": "ipython3",
   "version": "3.8.10"
  },
  "orig_nbformat": 4,
  "vscode": {
   "interpreter": {
    "hash": "916dbcbb3f70747c44a77c7bcd40155683ae19c65e1c03b4aa3499c5328201f1"
   }
  }
 },
 "nbformat": 4,
 "nbformat_minor": 2
}
